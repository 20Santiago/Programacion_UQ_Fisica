{
  "nbformat": 4,
  "nbformat_minor": 0,
  "metadata": {
    "colab": {
      "provenance": [],
      "authorship_tag": "ABX9TyOjbfEe0F/Fzb2V02Lv7ivt",
      "include_colab_link": true
    },
    "kernelspec": {
      "name": "python3",
      "display_name": "Python 3"
    },
    "language_info": {
      "name": "python"
    }
  },
  "cells": [
    {
      "cell_type": "markdown",
      "metadata": {
        "id": "view-in-github",
        "colab_type": "text"
      },
      "source": [
        "<a href=\"https://colab.research.google.com/github/20Santiago/Programacion_UQ_Fisica/blob/master/Definici%C3%B3n_del_Producto_Vectorial_(SAC).ipynb\" target=\"_parent\"><img src=\"https://colab.research.google.com/assets/colab-badge.svg\" alt=\"Open In Colab\"/></a>"
      ]
    },
    {
      "cell_type": "markdown",
      "source": [
        "# Definición del Producto Vectorial\n",
        "\n",
        "## Santiago Aguilar Cardenas"
      ],
      "metadata": {
        "id": "0iNvo6GB2ZrM"
      }
    },
    {
      "cell_type": "code",
      "execution_count": null,
      "metadata": {
        "colab": {
          "base_uri": "https://localhost:8080/"
        },
        "id": "iV4YJ6ba2TA3",
        "outputId": "56eddfee-d0a9-463e-e88e-22e5b9369f26"
      },
      "outputs": [
        {
          "output_type": "stream",
          "name": "stdout",
          "text": [
            "V_1 + V_2: (3 , -3 , -51)\n",
            "V_1 - V_2: (7 , -5 , 57)\n",
            "Norma V_1: 7.0710678118654755\n",
            "V_1 * V_2: -176\n",
            "V_1 x V_2: (213 , 264 , -3)\n"
          ]
        }
      ],
      "source": [
        "from math import sqrt\n",
        "\n",
        "\n",
        "class Vector:\n",
        "\n",
        "    def __init__(self, x=0, y=0, z=0):\n",
        "        self.x=x\n",
        "        self.y=y\n",
        "        self.z=z\n",
        "\n",
        "    def __add__(self, otro):\n",
        "        suma = Vector(self.x+otro.x, self.y+otro.y, self.z+otro.z)\n",
        "        return(suma)\n",
        "\n",
        "    def __sub__(self, otro):\n",
        "        resta = Vector(self.x-otro.x, self.y-otro.y, self.z-otro.z)\n",
        "        return(resta)\n",
        "\n",
        "    def Norma(self, otro):\n",
        "        Na = sqrt((self.x-otro.x)**2+(self.y-otro.y)**2+(self.z-otro.z)**2)\n",
        "        return(Na)\n",
        "\n",
        "    def ProductoPunto(self, otro):\n",
        "        Pp = self.x*otro.x+self.y*otro.y+self.z*otro.z\n",
        "        return(Pp)\n",
        "\n",
        "    def ProductoCruz(self, otro):\n",
        "        Pc = Vector((self.y*otro.z)-(otro.y*self.z), (otro.x*self.z)-(self.x*otro.z), \n",
        "                    (self.x*otro.y-otro.x*self.y))\n",
        "        \n",
        "        return(Pc)\n",
        "\n",
        "    def __str__(self):\n",
        "        cadena = \"(\"+str(self.x)+\" , \"+str(self.y)+\" , \"+str(self.z)+\")\"\n",
        "        return(cadena)\n",
        "\n",
        "# Para los Vectores:\n",
        "\n",
        "Vector0=Vector()\n",
        "Vector1=Vector(5, -4, 3)\n",
        "Vector2=Vector(-2, 1, -54)\n",
        "\n",
        "\n",
        "#Para las operaciones de Vectores:\n",
        "\n",
        "Vector3 = Vector1+Vector2\n",
        "Vector4 = Vector1-Vector2\n",
        "Norma1 = Vector1.Norma(Vector0)\n",
        "PPV1yV2 = Vector1.ProductoPunto(Vector2)\n",
        "PCV1yV2 = Vector1.ProductoCruz(Vector2)\n",
        "\n",
        "\n",
        "#Imprimir:\n",
        "print(\"V_1 + V_2:\", Vector3)\n",
        "print(\"V_1 - V_2:\", Vector4)\n",
        "print(\"Norma V_1:\", Norma1)\n",
        "print(\"V_1 * V_2:\", PPV1yV2)\n",
        "print(\"V_1 x V_2:\", PCV1yV2)"
      ]
    }
  ]
}