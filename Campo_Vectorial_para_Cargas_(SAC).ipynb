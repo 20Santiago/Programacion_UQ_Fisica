{
  "nbformat": 4,
  "nbformat_minor": 0,
  "metadata": {
    "colab": {
      "provenance": [],
      "authorship_tag": "ABX9TyPrfyqpZCUrDKA3ynAGMW8d",
      "include_colab_link": true
    },
    "kernelspec": {
      "name": "python3",
      "display_name": "Python 3"
    },
    "language_info": {
      "name": "python"
    }
  },
  "cells": [
    {
      "cell_type": "markdown",
      "metadata": {
        "id": "view-in-github",
        "colab_type": "text"
      },
      "source": [
        "<a href=\"https://colab.research.google.com/github/20Santiago/Programacion_UQ_Fisica/blob/master/Campo_Vectorial_para_Cargas_(SAC).ipynb\" target=\"_parent\"><img src=\"https://colab.research.google.com/assets/colab-badge.svg\" alt=\"Open In Colab\"/></a>"
      ]
    },
    {
      "cell_type": "markdown",
      "source": [
        "# Campo Vectorial para Cargas\n",
        "\n",
        "## Santiago Aguilar Cardenas"
      ],
      "metadata": {
        "id": "40_JTYga4coe"
      }
    },
    {
      "cell_type": "code",
      "execution_count": null,
      "metadata": {
        "colab": {
          "base_uri": "https://localhost:8080/"
        },
        "id": "dlGBhVIl4bko",
        "outputId": "8e1efd7c-2b78-449f-ed67-05b4721edf6c"
      },
      "outputs": [
        {
          "output_type": "stream",
          "name": "stdout",
          "text": [
            "Q_0: (1 , 2 , 3)\n",
            "Carga 1: (5 , 5 , 6)\n",
            "Carga 2: (-1 , 2 , -3)\n",
            "Carga 3: (-5 , 6 , -7)\n",
            "Campo que ejerce la carga 1 sobre Q_0 : (-4235294117.647059 , -3176470588.2352943 , -3176470588.2352943)\n",
            "Campo que ejerce la carga 2 sobre Q_0 : (1799999999.9999998 , 0.0 , 5399999999.999999)\n",
            "Campo que ejerce la carga 3 sobre Q_0 : (1421052631.5789475 , -947368421.0526317 , 2368421052.6315794)\n",
            "La superposición de campos eléctricos da como resultado el campo: (-1014241486.0681119 , -4123839009.287926 , 4591950464.396284)\n"
          ]
        }
      ],
      "source": [
        "from math import sqrt\n",
        "class Campo:\n",
        "\n",
        "#La idea es hacer un programa sencillo para el campo vectorial para tres cargas:\n",
        "\n",
        "    def __init__(self, x=0, y=0, z=0, q=0):\n",
        "        self.x=x\n",
        "        self.y=y\n",
        "        self.z=z\n",
        "        self.q=q\n",
        "    def __add__(self, otro):\n",
        "        suma = Campo(self.x+otro.x, self.y+otro.y, self.z+otro.z, self.q+otro.q)\n",
        "        return(suma)\n",
        "    def __sub__(self, otro):\n",
        "        resta = Campo(self.x-otro.x, self.y-otro.y, self.z-otro.z, self.q-otro.q)\n",
        "        return(resta)\n",
        "    def Norma(self, otro):\n",
        "        Na = sqrt((self.x-otro.x)**2+(self.y-otro.y)**2+( self.z-otro.z)**2)\n",
        "        return(Na)\n",
        "    def CalcularCampo(self, otro):\n",
        "        Na = self-otro\n",
        "        Ex = (9E9*self.q*Na.x)/self.Norma(otro)**2\n",
        "        Ey = (9E9*self.q*Na.y)/self.Norma(otro)**2\n",
        "        Ez = (9E9*self.q*Na.z)/self.Norma(otro)**2\n",
        "        return(Campo(Ex, Ey, Ez))\n",
        "    def __str__(self):\n",
        "        cadena=\"(\"+str(self.x)+\" , \"+str(self.y)+\" , \"+str(self.z)+\")\"\n",
        "        return(cadena)\n",
        "        \n",
        "\n",
        "#Cargas:\n",
        "\n",
        "Q_0=Campo(1, 2, 3, 4)\n",
        "Q_1=Campo(5, 5, 6, 6)          \n",
        "Q_2=Campo(-1, 2, -3, 4)\n",
        "Q_3=Campo(-5, 6, -7, 8)  \n",
        "\n",
        "\n",
        "#Campos\n",
        "\n",
        "Campo1=Q_0.CalcularCampo(Q_1)\n",
        "Campo2=Q_0.CalcularCampo(Q_2)\n",
        "Campo3=Q_0.CalcularCampo(Q_3)\n",
        "\n",
        "#Campo Total\n",
        "\n",
        "CampoTotal=Campo1+Campo2+Campo3\n",
        "\n",
        "\n",
        "#Imprimir Cargas\n",
        "\n",
        "print(\"Q_0:\", Q_0)\n",
        "print(\"Carga 1:\", Q_1)\n",
        "print(\"Carga 2:\", Q_2)\n",
        "print(\"Carga 3:\", Q_3)\n",
        "\n",
        "\n",
        "#Imprimir Campos\n",
        "\n",
        "print(\"Campo que ejerce la carga 1 sobre Q_0 :\", Campo1)\n",
        "print(\"Campo que ejerce la carga 2 sobre Q_0 :\", Campo2)\n",
        "print(\"Campo que ejerce la carga 3 sobre Q_0 :\", Campo3)\n",
        "\n",
        "\n",
        "#Imprimir Campo Total\n",
        "\n",
        "print(\"La superposición de campos eléctricos da como resultado el campo:\", CampoTotal)"
      ]
    }
  ]
}